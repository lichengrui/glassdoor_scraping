{
 "cells": [
  {
   "cell_type": "code",
   "execution_count": null,
   "metadata": {},
   "outputs": [],
   "source": [
    "! pip install gensim\n"
   ]
  },
  {
   "cell_type": "code",
   "execution_count": null,
   "metadata": {},
   "outputs": [],
   "source": [
    "import pandas as pd\n",
    "\n",
    "url=\"https://raw.githubusercontent.com/lichengrui/glassdoor_scraping/main/data.csv\"\n",
    "df=pd.read_csv(url)\n",
    "df = df.drop(columns=[\"Unnamed: 0\"])\n",
    "df = df.dropna(how='all')\n",
    "display(df)"
   ]
  },
  {
   "cell_type": "code",
   "execution_count": 25,
   "metadata": {},
   "outputs": [
    {
     "data": {
      "text/plain": [
       "[nan]"
      ]
     },
     "execution_count": 25,
     "metadata": {},
     "output_type": "execute_result"
    }
   ],
   "source": [
    "sentences = df[\"conwords\"].tolist()"
   ]
  },
  {
   "cell_type": "code",
   "execution_count": 39,
   "metadata": {},
   "outputs": [
    {
     "name": "stderr",
     "output_type": "stream",
     "text": [
      "C:\\Users\\R\\AppData\\Local\\Temp\\ipykernel_8036\\2556842055.py:7: FutureWarning: Series.dt.weekofyear and Series.dt.week have been deprecated. Please use Series.dt.isocalendar().week instead.\n",
      "  df_grouped = df_sorted.groupby(df_sorted['date'].dt.week).count()\n"
     ]
    },
    {
     "data": {
      "image/png": "[encoded data removed]",
      "text/plain": [
       "<Figure size 640x480 with 1 Axes>"
      ]
     },
     "metadata": {},
     "output_type": "display_data"
    }
   ],
   "source": [
    "import pandas as pd\n",
    "import matplotlib.pyplot as plt\n",
    "# Example DataFrame with a column named 'date'\n",
    "df['date'] = pd.to_datetime(df['date'])  # Convert 'date' column to datetime format\n",
    "# Assuming the 'date' column is already in datetime format\n",
    "df_sorted = df.sort_values(by='date')\n",
    "df_grouped = df_sorted.groupby(df_sorted['date'].dt.week).count()\n",
    "plt.bar(df_grouped.index, df_grouped['date'])\n",
    "plt.xlabel('Week Number')\n",
    "plt.ylabel('Count')\n",
    "plt.title('Week-to-Week Count Histogram')\n",
    "plt.show()\n"
   ]
  },
  {
   "cell_type": "code",
   "execution_count": null,
   "metadata": {},
   "outputs": [],
   "source": [
    "import pandas as pd\n",
    "import gensim\n",
    "from gensim import corpora\n",
    "from gensim.utils import simple_preprocess\n",
    "from gensim.parsing.preprocessing import STOPWORDS\n",
    "\n",
    "# Sample DataFrame with a column of sentences\n",
    "\n",
    "\n",
    "# Preprocess the sentences - tokenize and remove stop words\n",
    "def preprocess_sentence(sentence):\n",
    "    return [token for token in simple_preprocess(sentence) if token not in STOPWORDS]\n",
    "\n",
    "df['processed_conwords'] = df['conwords'].apply(preprocess_sentence)\n",
    "\n",
    "# Create a dictionary and a corpus (bag-of-words representation)\n",
    "dictionary = corpora.Dictionary(df['processed_conwords'])\n",
    "corpus = [dictionary.doc2bow(sentence) for sentence in df['processed_conwords']]\n",
    "\n",
    "# Build the LDA model\n",
    "num_topics = 10  # Set the number of topics\n",
    "lda_model = gensim.models.LdaModel(corpus, num_topics=num_topics, id2word=dictionary, passes=10)\n",
    "\n",
    "# Apply the LDA model to determine the topic for each sentence\n",
    "def get_topic(sentence):\n",
    "    sentence_bow = dictionary.doc2bow(sentence)\n",
    "    topic_probabilities = lda_model.get_document_topics(sentence_bow)\n",
    "    topic_index_with_highest_prob = max(topic_probabilities, key=lambda x: x[1])[0]\n",
    "    return topic_index_with_highest_prob + 1\n",
    "\n",
    "df['topic'] = df['processed_conwords'].apply(get_topic)\n",
    "\n",
    "# Print the DataFrame with topics\n",
    "display(df)"
   ]
  },
  {
   "cell_type": "code",
   "execution_count": 51,
   "metadata": {},
   "outputs": [
    {
     "data": {
      "text/plain": [
       "7     2597\n",
       "2     2036\n",
       "1     1774\n",
       "10    1715\n",
       "8     1669\n",
       "3     1663\n",
       "9     1305\n",
       "4     1234\n",
       "5     1102\n",
       "6      800\n",
       "Name: topic, dtype: int64"
      ]
     },
     "execution_count": 51,
     "metadata": {},
     "output_type": "execute_result"
    }
   ],
   "source": [
    "df[\"topic\"].value_counts()"
   ]
  },
  {
   "cell_type": "code",
   "execution_count": null,
   "metadata": {},
   "outputs": [],
   "source": []
  }
 ],
 "metadata": {
  "kernelspec": {
   "display_name": "Python 3",
   "language": "python",
   "name": "python3"
  },
  "language_info": {
   "codemirror_mode": {
    "name": "ipython",
    "version": 3
   },
   "file_extension": ".py",
   "mimetype": "text/x-python",
   "name": "python",
   "nbconvert_exporter": "python",
   "pygments_lexer": "ipython3",
   "version": "3.10.11"
  },
  "orig_nbformat": 4
 },
 "nbformat": 4,
 "nbformat_minor": 2
}
